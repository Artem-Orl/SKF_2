{
 "cells": [
  {
   "cell_type": "markdown",
   "metadata": {},
   "source": [
    "## Сбор данных"
   ]
  },
  {
   "cell_type": "code",
   "execution_count": null,
   "metadata": {},
   "outputs": [],
   "source": [
    "from selenium import webdriver\n",
    "from selenium.webdriver.common.by import By\n",
    "from selenium.webdriver.support.ui import WebDriverWait\n",
    "from selenium.webdriver.support import expected_conditions as EC\n",
    "from selenium.common.exceptions import TimeoutException\n",
    "from bs4 import BeautifulSoup\n",
    "import time\n",
    "import pandas as pd"
   ]
  },
  {
   "cell_type": "code",
   "execution_count": null,
   "metadata": {},
   "outputs": [],
   "source": [
    "# собираем все ссылки на авто\n",
    "needed_cars=['Все марки']\n",
    "driver = webdriver.Firefox(executable_path=r\"C:\\users\\user\\geckodriver.exe\")\n",
    "i=1\n",
    "all_links=[]\n",
    "\n",
    "for needed_car in needed_cars:\n",
    "    driver.get('https://auto.ru/moskva/cars/{y}/used/?page={z}'.format(z=i,y=needed_car))\n",
    "    time.sleep(2)\n",
    "    for x in range(1,300):\n",
    "        source_data = driver.page_source\n",
    "        soup = BeautifulSoup(source_data, 'html.parser')\n",
    "        for l in soup.find_all('a', class_=\"Link ListingItemTitle-module__link\"):\n",
    "            all_links.append(l.get('href'))\n",
    "        try:\n",
    "            link = driver.find_element_by_link_text(str(i+x))\n",
    "        except:\n",
    "            break\n",
    "        link.click()\n",
    "        time.sleep(1)#по уму надо бы\n",
    "    time.sleep(1)\n",
    "driver.quit()\n",
    "df_bs_msk=pd.DataFrame(list(set(all_links)))\n",
    "df_bs_msk.to_csv('beautifulsoup_msk_rest.csv')"
   ]
  },
  {
   "cell_type": "code",
   "execution_count": null,
   "metadata": {},
   "outputs": [],
   "source": [
    "# парсинг на ссылкам\n",
    "#ЧАСТЬ 2\n",
    "from selenium import webdriver\n",
    "from selenium.webdriver.common.by import By\n",
    "from selenium.webdriver.support.ui import WebDriverWait\n",
    "from selenium.webdriver.support import expected_conditions as EC\n",
    "from selenium.common.exceptions import TimeoutException\n",
    "from bs4 import BeautifulSoup\n",
    "import time\n",
    "import pandas as pd\n",
    "\n",
    "\n",
    "driver = webdriver.Firefox(executable_path=r\"C:\\users\\user\\geckodriver.exe\")\n",
    "all_cars_2_2= []\n",
    "\n",
    "url = parcing_uls_spb_2_2\n",
    "\n",
    "for ur in url:\n",
    "    car = {}\n",
    "    driver.implicitly_wait(10)\n",
    "    driver.get(ur)\n",
    "    page = driver.page_source\n",
    "    soup = BeautifulSoup(page, 'html.parser')\n",
    "    # 0\n",
    "    try:\n",
    "        car['bodyType'] = soup.find('li', class_='CardInfoRow CardInfoRow_bodytype').text[5:]\n",
    "    except:\n",
    "        car['bodyType']=None\n",
    "    # 1\n",
    "    try:\n",
    "        car['brand'] = ur.split(sep='/')[6].upper()\n",
    "    except:\n",
    "        car['brand']=None\n",
    "    # 2\n",
    "    car['car_url'] = ur\n",
    "    # 3\n",
    "    try:\n",
    "        car['color'] = soup.find('li', class_='CardInfoRow CardInfoRow_color').text[4:]\n",
    "    except:\n",
    "        car['color']=None\n",
    "    # 5\n",
    "    try:\n",
    "        car['description'] = soup.find('div', class_='CardDescription__text').text\n",
    "    except:\n",
    "        car['description']=None\n",
    "    # 6,7,9,\n",
    "    try:\n",
    "        car['engineDisplacement+enginePower+fuelType'] = soup.find('li', class_='CardInfoRow CardInfoRow_engine').text.split(sep='/')\n",
    "    except:\n",
    "        car['engineDisplacement+enginePower+fuelType']=None\n",
    "    # 8\n",
    "    try:\n",
    "        equipment_all = soup.find_all('li', class_='ComplectationGroups__itemContentEl')\n",
    "        car['equipment_dict'] = [equipment.text for equipment in equipment_all]\n",
    "    except:\n",
    "        car['equipment_dict']=None\n",
    "    # 11\n",
    "    try:\n",
    "        car['mileage'] = soup.find('li', class_='CardInfoRow CardInfoRow_kmAge').text\n",
    "    except:\n",
    "        car['mileage']=None\n",
    "    # 14\n",
    "    car['model_name'] = ur.split(sep='/')[7].upper()\n",
    "    # 16\n",
    "    car['numberOfDoors'] = 'добавить из датафрейма'\n",
    "    # 17\n",
    "    car['parsing_unixtime'] = 2021\n",
    "    # 19\n",
    "    try:\n",
    "        car['productionDate'] = soup.find('li', class_='CardInfoRow CardInfoRow_year').text[-4:]\n",
    "    except:\n",
    "        car['productionDate']=None\n",
    "    # 23\n",
    "    try:\n",
    "        car['vehicleTransmission'] = soup.find('li', class_='CardInfoRow CardInfoRow_transmission').text[7:]\n",
    "    except:\n",
    "        car['vehicleTransmission']=None\n",
    "    # 24\n",
    "    car['vendor'] = 'возьми из каталога на auto.ru'\n",
    "    # 25\n",
    "    try:\n",
    "        car['Владельцы'] = soup.find('li', class_='CardInfoRow CardInfoRow_ownersCount').text[9:11]\n",
    "    except:\n",
    "        car['Владельцы']=None\n",
    "    # 26\n",
    "    car['Владение'] = 'Информация не учитывается'\n",
    "    # 27\n",
    "    try:\n",
    "        car['ПТС'] = soup.find('li', class_='CardInfoRow CardInfoRow_pts').text[3:]\n",
    "    except:\n",
    "        car['ПТС']=None\n",
    "    # 28\n",
    "    try:\n",
    "        car['Привод'] = soup.find('li', class_='CardInfoRow CardInfoRow_drive').text[6:]\n",
    "    except:\n",
    "        car['Привод']=None\n",
    "    # 29\n",
    "    try:\n",
    "        car['Руль'] = soup.find('li', class_='CardInfoRow CardInfoRow_wheel').text[4:]\n",
    "    except:\n",
    "        car['Руль']=None\n",
    "    # 30\n",
    "    try:\n",
    "        car['Состояние'] = soup.find('li', class_='CardInfoRow CardInfoRow_state').text[9:]\n",
    "    except:\n",
    "        car['Состояние']=None\n",
    "    # 31\n",
    "    try:\n",
    "        car['Таможня'] = soup.find('li', class_='CardInfoRow CardInfoRow_customs').text[7:]\n",
    "    except:\n",
    "        car['Таможня']=None\n",
    "    # 32\n",
    "    try:\n",
    "        car['price'] = soup.find('div', class_='CardSidebarActions__price-caption').text[:-1]\n",
    "    except:\n",
    "        continue\n",
    "    all_cars_2_2.append(car)\n",
    "    time.sleep(1)\n",
    "driver.quit()\n",
    "\n",
    "import pandas as pd\n",
    "train_spb_2_2=pd.DataFrame(all_cars_2_2)\n",
    "display(train_spb_2_2)\n",
    "train_spb_2_2.to_csv('train_spb_2_2.csv')"
   ]
  },
  {
   "cell_type": "markdown",
   "metadata": {},
   "source": [
    "## Обработка"
   ]
  },
  {
   "cell_type": "code",
   "execution_count": 127,
   "metadata": {
    "id": "shDc-LY-TI9d"
   },
   "outputs": [],
   "source": [
    "# все train обработки\n",
    "import pandas as pd\n",
    "# MSK\n",
    "m_1 = pd.read_csv(\n",
    "    r'C:\\Users\\user\\Jupiter Notebook\\module_7 OrlovAA\\0. фин сборка\\train_moscow_1.csv')\n",
    "m_2 = pd.read_csv(\n",
    "    r'C:\\Users\\user\\Jupiter Notebook\\module_7 OrlovAA\\0. фин сборка\\train_moscow_2.csv')\n",
    "m_3_1 = pd.read_csv(\n",
    "    r'C:\\Users\\user\\Jupiter Notebook\\module_7 OrlovAA\\0. фин сборка\\train_moscow_3_1.csv')\n",
    "m_3_2 = pd.read_csv(\n",
    "    r'C:\\Users\\user\\Jupiter Notebook\\module_7 OrlovAA\\0. фин сборка\\train_moscow_3_2.csv')\n",
    "m_4_1 = pd.read_csv(\n",
    "    r'C:\\Users\\user\\Jupiter Notebook\\module_7 OrlovAA\\0. фин сборка\\train_moscow_4_1.csv')\n",
    "m_4_2 = pd.read_csv(\n",
    "    r'C:\\Users\\user\\Jupiter Notebook\\module_7 OrlovAA\\0. фин сборка\\train_moscow_4_2.csv')\n",
    "m_5_1 = pd.read_csv(\n",
    "    r'C:\\Users\\user\\Jupiter Notebook\\module_7 OrlovAA\\0. фин сборка\\train_moscow_5_1.csv')\n",
    "m_5_2 = pd.read_csv(\n",
    "    r'C:\\Users\\user\\Jupiter Notebook\\module_7 OrlovAA\\0. фин сборка\\train_moscow_5_2.csv')\n",
    "m_6_1 = pd.read_csv(\n",
    "    r'C:\\Users\\user\\Jupiter Notebook\\module_7 OrlovAA\\0. фин сборка\\train_moscow_6_1.csv')\n",
    "m_6_2 = pd.read_csv(\n",
    "    r'C:\\Users\\user\\Jupiter Notebook\\module_7 OrlovAA\\0. фин сборка\\train_moscow_6_2.csv')\n",
    "m_7_1 = pd.read_csv(\n",
    "    r'C:\\Users\\user\\Jupiter Notebook\\module_7 OrlovAA\\0. фин сборка\\train_moscow_7_1.csv')\n",
    "m_7_2 = pd.read_csv(\n",
    "    r'C:\\Users\\user\\Jupiter Notebook\\module_7 OrlovAA\\0. фин сборка\\train_moscow_7_2.csv')\n",
    "m_8_1 = pd.read_csv(\n",
    "    r'C:\\Users\\user\\Jupiter Notebook\\module_7 OrlovAA\\0. фин сборка\\train_moscow_8_1.csv')\n",
    "m_8_2 = pd.read_csv(\n",
    "    r'C:\\Users\\user\\Jupiter Notebook\\module_7 OrlovAA\\0. фин сборка\\train_moscow_8_2.csv')\n",
    "m_9_1 = pd.read_csv(\n",
    "    r'C:\\Users\\user\\Jupiter Notebook\\module_7 OrlovAA\\0. фин сборка\\train_moscow_9_1.csv')\n",
    "m_9_2 = pd.read_csv(\n",
    "    r'C:\\Users\\user\\Jupiter Notebook\\module_7 OrlovAA\\0. фин сборка\\train_moscow_9_2.csv')\n",
    "m_10_1 = pd.read_csv(\n",
    "    r'C:\\Users\\user\\Jupiter Notebook\\module_7 OrlovAA\\0. фин сборка\\train_moscow_10_1.csv')\n",
    "m_10_2 = pd.read_csv(\n",
    "    r'C:\\Users\\user\\Jupiter Notebook\\module_7 OrlovAA\\0. фин сборка\\train_moscow_10_2.csv')\n",
    "\n",
    "\n",
    "# SPB\n",
    "s_1_1 = pd.read_csv(\n",
    "    r'C:\\Users\\user\\Jupiter Notebook\\module_7 OrlovAA\\0. фин сборка\\train_spb_1_1.csv')\n",
    "s_1_2 = pd.read_csv(\n",
    "    r'C:\\Users\\user\\Jupiter Notebook\\module_7 OrlovAA\\0. фин сборка\\train_spb_1_2.csv')\n",
    "s_2_1 = pd.read_csv(\n",
    "    r'C:\\Users\\user\\Jupiter Notebook\\module_7 OrlovAA\\0. фин сборка\\train_spb_2_1.csv')\n",
    "s_2_2 = pd.read_csv(\n",
    "    r'C:\\Users\\user\\Jupiter Notebook\\module_7 OrlovAA\\0. фин сборка\\train_spb_2_2.csv')\n",
    "s_3_1 = pd.read_csv(\n",
    "    r'C:\\Users\\user\\Jupiter Notebook\\module_7 OrlovAA\\0. фин сборка\\train_spb_3_1.csv')\n",
    "s_3_2 = pd.read_csv(\n",
    "    r'C:\\Users\\user\\Jupiter Notebook\\module_7 OrlovAA\\0. фин сборка\\train_spb_3_2.csv')\n",
    "\n",
    "moscow = pd.concat([m_1, m_2, m_3_1, m_3_2, m_4_1, m_4_2, m_5_1, m_5_2,\n",
    "                    m_6_1, m_6_2, m_7_1, m_7_2, m_8_1, m_8_2, m_9_1, m_9_2, m_10_1, m_10_2])\n",
    "moscow['city'] = 'MSK'\n",
    "spb = pd.concat([s_1_1, s_1_2, s_3_1, s_3_2, s_2_1, s_2_2])\n",
    "spb['city'] = 'SPB'\n",
    "\n",
    "train = pd.concat([moscow, spb])"
   ]
  },
  {
   "cell_type": "code",
   "execution_count": 128,
   "metadata": {
    "id": "p3F_S6878MLT"
   },
   "outputs": [],
   "source": [
    "train['engineDisplacement'] = train['engineDisplacement+enginePower+fuelType'].str.extract(\n",
    "    r'(\\d+[.]\\d+)').astype('float')"
   ]
  },
  {
   "cell_type": "code",
   "execution_count": 129,
   "metadata": {
    "id": "jo6191GeAKTS"
   },
   "outputs": [],
   "source": [
    "train['enginePower'] = train['engineDisplacement+enginePower+fuelType'].str.extract(\n",
    "    r'([ ]\\d+)').astype('float')"
   ]
  },
  {
   "cell_type": "code",
   "execution_count": 130,
   "metadata": {},
   "outputs": [],
   "source": [
    "train['fuelType'] = train['engineDisplacement+enginePower+fuelType'].str.extract(\n",
    "    r'([ ][А-я][А-я]+)')\n",
    "train['fuelType'] = train['fuelType'].apply(\n",
    "    lambda x: None if pd.isna(x) else x[1:].lower())"
   ]
  },
  {
   "cell_type": "code",
   "execution_count": 131,
   "metadata": {
    "id": "sqov0ozNGKFn"
   },
   "outputs": [],
   "source": [
    "train['mileage'] = train['mileage'].str.findall(\n",
    "    r'(\\d+)').str.join(sep='').astype('float')"
   ]
  },
  {
   "cell_type": "code",
   "execution_count": 132,
   "metadata": {
    "id": "9NYCziayHNLo"
   },
   "outputs": [],
   "source": [
    "train['price'] = train['price'].str.findall(\n",
    "    r'(\\d+)').str.join(sep='').astype('float')"
   ]
  },
  {
   "cell_type": "code",
   "execution_count": 133,
   "metadata": {
    "id": "pUcXXM9RS0Sv"
   },
   "outputs": [],
   "source": [
    "train['equipment_dict'] = train['equipment_dict'].apply(\n",
    "    lambda x: None if x == '[]' else x)"
   ]
  },
  {
   "cell_type": "code",
   "execution_count": 171,
   "metadata": {},
   "outputs": [],
   "source": [
    "# данные о вендорах\n",
    "EUROPEAN = ['DACIA', 'MINI', 'DAIMLER', 'SEAT', 'ROLLS_ROYCE', 'ROVER', 'SMART', 'SKODA', 'AUDI', 'VOLVO', 'BMW', 'MERCEDES', 'VOLKSWAGEN',\n",
    "            'RENAULT', 'CITROEN', 'FIAT', 'LAND_ROVER', 'OPEL', 'PEUGEOT', 'JAGUAR', 'FERRARI', 'LAMBORGHINI', 'MASERATI', 'BENTLEY', 'ALFA_ROMEO', 'PORSCHE']\n",
    "JAPANESE = ['HONDA', 'NISSAN', 'INFINITI', 'TOYOTA', 'LEXUS', 'MITSUBISHI',\n",
    "            'SUBARU', 'MAZDA', 'SUZUKI', 'ISUZU', 'ACURA', 'DATSUN', 'DAIHATSU']\n",
    "AMERICAN = ['FORD', 'BUICK', 'HUMMER', 'JEEP', 'PONTIAC',\n",
    "            'TESLA', 'CADILLAC', 'LINCOLN', 'CHRYSLER', 'DODGE', 'GMC']\n",
    "USSR = ['VAZ', 'GAZ', 'MOSCVICH', 'UAZ', 'RAVON', 'VORTEX']\n",
    "KOREAN = ['DAEWOO', 'KIA', 'HYUNDAI', 'GENESIS']\n",
    "CHINESE = ['CHERY', 'GREAT_WALL', 'BYD', 'LIFAN', 'HAVAL',\n",
    "           'GEELY', 'FAW', 'DONGFENG', 'BRILLIANCE', 'CHANGAN']\n",
    "\n",
    "\n",
    "def fill_vend(row):\n",
    "    if row['brand'] in EUROPEAN:\n",
    "        return 'EUROPEAN'\n",
    "    elif row['brand'] in JAPANESE:\n",
    "        return 'JAPANESE'\n",
    "    elif row['brand'] in AMERICAN:\n",
    "        return 'AMERICAN'\n",
    "    elif row['brand'] == 'CHEVROLET':\n",
    "        if row['model_name'] == 'NIVA':\n",
    "            return 'USSR'\n",
    "        else:\n",
    "            return 'EUROPEAN'\n",
    "    elif row['brand'] in USSR:\n",
    "        return 'USSR'\n",
    "    elif row['brand'] in KOREAN:\n",
    "        return 'KOREAN'\n",
    "    elif row['brand'] in CHINESE:\n",
    "        return 'CHINESE'\n",
    "    else:\n",
    "        return'not_definied'\n",
    "\n",
    "\n",
    "train['vendor'] = train.apply(lambda row: fill_vend(row), axis=1)"
   ]
  },
  {
   "cell_type": "code",
   "execution_count": 175,
   "metadata": {
    "id": "SBWvZC12HkdX"
   },
   "outputs": [],
   "source": [
    "final_train = train[['bodyType', 'brand', 'car_url', 'color', 'description', 'engineDisplacement', 'enginePower', 'equipment_dict', 'fuelType', 'mileage', 'model_name',\n",
    "                     'numberOfDoors', 'parsing_unixtime', 'productionDate', 'vehicleTransmission', 'vendor', 'Владельцы', 'Владение', 'ПТС', 'Привод', 'Руль', 'Состояние', 'Таможня', 'price', 'city']]\n",
    "final_train.to_csv('train.csv')"
   ]
  }
 ],
 "metadata": {
  "colab": {
   "collapsed_sections": [],
   "name": "Преобразование train части.ipynb",
   "provenance": []
  },
  "kernelspec": {
   "display_name": "Python 3",
   "language": "python",
   "name": "python3"
  },
  "language_info": {
   "codemirror_mode": {
    "name": "ipython",
    "version": 3
   },
   "file_extension": ".py",
   "mimetype": "text/x-python",
   "name": "python",
   "nbconvert_exporter": "python",
   "pygments_lexer": "ipython3",
   "version": "3.7.6"
  }
 },
 "nbformat": 4,
 "nbformat_minor": 1
}
